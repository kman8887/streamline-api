{
 "cells": [
  {
   "cell_type": "code",
   "execution_count": 1,
   "metadata": {},
   "outputs": [
    {
     "name": "stdout",
     "output_type": "stream",
     "text": [
      "Function 'get_all_user_interactions' executed in 0.15 seconds.\n",
      "Function '__compute_first_interaction_score' executed in 0.15 seconds.\n",
      "Function '__add_time_decay' executed in 0.26 seconds.\n",
      "Function '__normalize_scores' executed in 0.01 seconds.\n",
      "Function 'create_ratings_matrix' executed in 17.19 seconds.\n"
     ]
    }
   ],
   "source": [
    "import sys\n",
    "\n",
    "from recommendation.ratings_matrix import create_ratings_matrix\n",
    "sys.path.append('/Users/garethmiskimmin/streamline-app/api')\n",
    "\n",
    "ratings_matrix = create_ratings_matrix()"
   ]
  },
  {
   "cell_type": "code",
   "execution_count": 3,
   "metadata": {},
   "outputs": [
    {
     "name": "stdout",
     "output_type": "stream",
     "text": [
      "Function 'get_movies_metadata' executed in 54.51 seconds.\n",
      "Function '__build_metadata_vectorized' executed in 1.59 seconds.\n"
     ]
    },
    {
     "name": "stderr",
     "output_type": "stream",
     "text": [
      "Building user profiles:   0%|          | 0/63 [00:00<?, ?it/s]"
     ]
    },
    {
     "name": "stdout",
     "output_type": "stream",
     "text": [
      "Function '__tf_idf_on_metadata' executed in 8.73 seconds.\n"
     ]
    },
    {
     "name": "stderr",
     "output_type": "stream",
     "text": [
      "                                                                       \r"
     ]
    },
    {
     "name": "stdout",
     "output_type": "stream",
     "text": [
      "Function 'get_content_based_filtering_model' executed in 89.13 seconds.\n"
     ]
    }
   ],
   "source": [
    "from recommendation.content_based_filtering_service import get_content_based_filtering_model\n",
    "\n",
    "cbf_model = get_content_based_filtering_model(ratings_matrix)"
   ]
  },
  {
   "cell_type": "code",
   "execution_count": 10,
   "metadata": {},
   "outputs": [],
   "source": [
    "import pandas as pd\n",
    "import psycopg\n",
    "from psycopg.rows import dict_row\n",
    "from common.utils.utils import DB_CONFIG\n",
    "\n",
    "\n",
    "query = \"\"\"\n",
    "SELECT \n",
    "    user_id, \n",
    "    movie_id, \n",
    "    predicted_score\n",
    "FROM user_recommendations\n",
    "WHERE user_id = ANY(%s)\n",
    "\"\"\"\n",
    "user_ids = [9,10]\n",
    "\n",
    "with psycopg.connect(**DB_CONFIG) as conn:\n",
    "    with conn.cursor(row_factory=dict_row) as cur:\n",
    "        # ✅ Fetch onboarding movies\n",
    "        cur.execute(query, [user_ids])\n",
    "\n",
    "        user_recommendations = cur.fetchall()\n",
    "\n",
    "combined_frame = pd.DataFrame(user_recommendations)\n",
    "\n",
    "merged_frame = combined_frame.groupby([\"movie_id\"])[\"predicted_score\"].mean()\n",
    "\n",
    "top = merged_frame.sort_values(ascending=False).head(100)"
   ]
  }
 ],
 "metadata": {
  "kernelspec": {
   "display_name": ".venv",
   "language": "python",
   "name": "python3"
  },
  "language_info": {
   "codemirror_mode": {
    "name": "ipython",
    "version": 3
   },
   "file_extension": ".py",
   "mimetype": "text/x-python",
   "name": "python",
   "nbconvert_exporter": "python",
   "pygments_lexer": "ipython3",
   "version": "3.11.11"
  }
 },
 "nbformat": 4,
 "nbformat_minor": 2
}
